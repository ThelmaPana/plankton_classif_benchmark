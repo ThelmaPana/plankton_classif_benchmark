{
 "cells": [
  {
   "cell_type": "markdown",
   "metadata": {},
   "source": [
    "# Comparison of accuracy results across datasets and models"
   ]
  },
  {
   "cell_type": "code",
   "execution_count": null,
   "metadata": {},
   "outputs": [],
   "source": [
    "import glob\n",
    "import pickle\n",
    "import pandas as pd\n",
    "from plotnine import *\n",
    "from sklearn.metrics import accuracy_score, balanced_accuracy_score, precision_score, recall_score"
   ]
  },
  {
   "cell_type": "markdown",
   "metadata": {},
   "source": [
    "List test files"
   ]
  },
  {
   "cell_type": "code",
   "execution_count": null,
   "metadata": {},
   "outputs": [],
   "source": [
    "test_files = glob.glob('output_paper/*/test_results.pickle')\n",
    "test_files.sort()\n",
    "print(\"\\n\".join(test_files))"
   ]
  },
  {
   "cell_type": "markdown",
   "metadata": {},
   "source": [
    "Initiate empty dict to store results"
   ]
  },
  {
   "cell_type": "code",
   "execution_count": null,
   "metadata": {},
   "outputs": [],
   "source": [
    "results = {\n",
    "    'dataset': [],\n",
    "    'weights': [],\n",
    "    'model': [],\n",
    "    'accuracy': [],\n",
    "    'balanced_accuracy': [],\n",
    "    'eco_rev_precision': [],\n",
    "    'eco_rev_recall': [],\n",
    "    'accuracy_g': [],\n",
    "    'balanced_accuracy_g': [],\n",
    "    'eco_rev_precision_g': [],\n",
    "    'eco_rev_recall_g': [],\n",
    "}"
   ]
  },
  {
   "cell_type": "markdown",
   "metadata": {},
   "source": [
    "Loop over test files and compute metrics values for each dataset and model"
   ]
  },
  {
   "cell_type": "code",
   "execution_count": null,
   "metadata": {},
   "outputs": [],
   "source": [
    "for test_file in test_files:\n",
    "    condi = test_file.split('/')[1]\n",
    "    model = condi.split('_')[0].upper()\n",
    "    weights = condi.split('_')[1].upper()\n",
    "    dataset = condi.split('_')[2]\n",
    "    \n",
    "    with open(test_file,'rb') as file:\n",
    "        test_results = pickle.load(file)    \n",
    "        \n",
    "        accuracy = test_results.get('accuracy')\n",
    "        balanced_accuracy = test_results.get('balanced_accuracy')\n",
    "        eco_rev_precision = test_results.get('eco_rev_precision')\n",
    "        eco_rev_recall = test_results.get('eco_rev_recall')\n",
    "        \n",
    "        accuracy_g = test_results.get('accuracy_g')\n",
    "        balanced_accuracy_g = test_results.get('balanced_accuracy_g')\n",
    "        eco_rev_precision_g = test_results.get('eco_rev_precision_g')\n",
    "        eco_rev_recall_g = test_results.get('eco_rev_recall_g')\n",
    "    \n",
    "    results['dataset'].append(dataset)\n",
    "    results['weights'].append(weights)\n",
    "    results['model'].append(model)\n",
    "    \n",
    "    results['accuracy'].append(accuracy)\n",
    "    results['balanced_accuracy'].append(balanced_accuracy)\n",
    "    results['eco_rev_precision'].append(eco_rev_precision)\n",
    "    results['eco_rev_recall'].append(eco_rev_recall)\n",
    "    \n",
    "    results['accuracy_g'].append(accuracy_g)\n",
    "    results['balanced_accuracy_g'].append(balanced_accuracy_g)\n",
    "    results['eco_rev_precision_g'].append(eco_rev_precision_g)\n",
    "    results['eco_rev_recall_g'].append(eco_rev_recall_g)"
   ]
  },
  {
   "cell_type": "markdown",
   "metadata": {},
   "source": [
    "Convert to dataframe, make columns categorical and save a csv file with all results. "
   ]
  },
  {
   "cell_type": "code",
   "execution_count": null,
   "metadata": {},
   "outputs": [],
   "source": [
    "df_results = pd.DataFrame(results)\n",
    "df_results = df_results.assign(model = lambda df: df.model + '_' + df.weights)\n",
    "df_results = df_results.drop('weights', axis=1)\n",
    "df_results.to_csv('output/all_results.csv', index = False)"
   ]
  },
  {
   "cell_type": "markdown",
   "metadata": {},
   "source": [
    "## Original classes"
   ]
  },
  {
   "cell_type": "markdown",
   "metadata": {},
   "source": [
    "### Accuracy"
   ]
  },
  {
   "cell_type": "code",
   "execution_count": null,
   "metadata": {},
   "outputs": [],
   "source": [
    "df_results.pivot(index='model', columns='dataset', values='accuracy')"
   ]
  },
  {
   "cell_type": "markdown",
   "metadata": {},
   "source": [
    "Plot results"
   ]
  },
  {
   "cell_type": "code",
   "execution_count": null,
   "metadata": {},
   "outputs": [],
   "source": [
    "(ggplot(df_results, aes(x='dataset', y='accuracy', fill='model')) + \n",
    "    geom_col(stat='identity', position='dodge') +\n",
    "    labs(fill='Model', title = 'Accuracy value per dataset per model',\n",
    "        x='Dataset', y='Accuracy')+\n",
    "    theme_classic() +\n",
    "    scale_fill_manual(values={\n",
    "        'CNN_NW': 'lightgray', \n",
    "        'CNN_W': 'darkgray', \n",
    "        'RF_NW': 'dimgray',\n",
    "        'RF_W': 'black',\n",
    "    }) +\n",
    "    ylim(0, 1) +\n",
    "    theme(axis_text_x=element_text(size=10), axis_text_y=element_text(size=10)))"
   ]
  },
  {
   "cell_type": "markdown",
   "metadata": {},
   "source": [
    "### Balanced accuracy"
   ]
  },
  {
   "cell_type": "code",
   "execution_count": null,
   "metadata": {},
   "outputs": [],
   "source": [
    "df_results.pivot(index='model', columns='dataset', values='balanced_accuracy')"
   ]
  },
  {
   "cell_type": "code",
   "execution_count": null,
   "metadata": {},
   "outputs": [],
   "source": [
    "(ggplot(df_results, aes(x='dataset', y='balanced_accuracy', fill='model')) + \n",
    "    geom_col(stat='identity', position='dodge') +\n",
    "    labs(fill='Model', title = 'Balanced accuracy value per dataset per model',\n",
    "        x='Dataset', y='Balanced accuracy')+\n",
    "    theme_classic() +\n",
    "    scale_fill_manual(values={\n",
    "        'CNN_NW': 'lightgray', \n",
    "        'CNN_W': 'darkgray', \n",
    "        'RF_NW': 'dimgray',\n",
    "        'RF_W': 'black',\n",
    "    }) +\n",
    "    ylim(0, 1) +\n",
    "    theme(axis_text_x=element_text(size=10), axis_text_y=element_text(size=10)))"
   ]
  },
  {
   "cell_type": "markdown",
   "metadata": {},
   "source": [
    "### Ecologically relevant precision"
   ]
  },
  {
   "cell_type": "code",
   "execution_count": null,
   "metadata": {},
   "outputs": [],
   "source": [
    "df_results.pivot(index='model', columns='dataset', values='eco_rev_precision')"
   ]
  },
  {
   "cell_type": "code",
   "execution_count": null,
   "metadata": {},
   "outputs": [],
   "source": [
    "(ggplot(df_results, aes(x='dataset', y='eco_rev_precision', fill='model')) + \n",
    "    geom_col(stat='identity', position='dodge') +\n",
    "    labs(fill='Model', title = 'Ecologically relevant precision value per dataset per model',\n",
    "        x='Dataset', y='Eco rev precision')+\n",
    "    theme_classic() +\n",
    "    scale_fill_manual(values={\n",
    "        'CNN_NW': 'lightgray', \n",
    "        'CNN_W': 'darkgray', \n",
    "        'RF_NW': 'dimgray',\n",
    "        'RF_W': 'black',\n",
    "    }) +\n",
    "    ylim(0, 1) +\n",
    "    theme(axis_text_x=element_text(size=10), axis_text_y=element_text(size=10)))"
   ]
  },
  {
   "cell_type": "markdown",
   "metadata": {},
   "source": [
    "### Ecologically relevant recall"
   ]
  },
  {
   "cell_type": "code",
   "execution_count": null,
   "metadata": {},
   "outputs": [],
   "source": [
    "df_results.pivot(index='model', columns='dataset', values='eco_rev_recall')"
   ]
  },
  {
   "cell_type": "code",
   "execution_count": null,
   "metadata": {},
   "outputs": [],
   "source": [
    "(ggplot(df_results, aes(x='dataset', y='eco_rev_recall', fill='model')) + \n",
    "    geom_col(stat='identity', position='dodge') +\n",
    "    labs(fill='Model', title = 'Ecologically relevant recall value per dataset per model',\n",
    "        x='Dataset', y='Eco rev recall')+\n",
    "    theme_classic() +\n",
    "    scale_fill_manual(values={\n",
    "        'CNN_NW': 'lightgray', \n",
    "        'CNN_W': 'darkgray', \n",
    "        'RF_NW': 'dimgray',\n",
    "        'RF_W': 'black',\n",
    "    }) +\n",
    "    ylim(0, 1) +\n",
    "    theme(axis_text_x=element_text(size=10), axis_text_y=element_text(size=10)))"
   ]
  },
  {
   "cell_type": "markdown",
   "metadata": {},
   "source": [
    "## Grouped classes"
   ]
  },
  {
   "cell_type": "markdown",
   "metadata": {},
   "source": [
    "### Accuracy"
   ]
  },
  {
   "cell_type": "code",
   "execution_count": null,
   "metadata": {},
   "outputs": [],
   "source": [
    "df_results.pivot(index='model', columns='dataset', values='accuracy_g')"
   ]
  },
  {
   "cell_type": "markdown",
   "metadata": {},
   "source": [
    "Plot results"
   ]
  },
  {
   "cell_type": "code",
   "execution_count": null,
   "metadata": {},
   "outputs": [],
   "source": [
    "(ggplot(df_results, aes(x='dataset', y='accuracy_g', fill='model')) + \n",
    "    geom_col(stat='identity', position='dodge') +\n",
    "    labs(fill='Model', title = 'Accuracy value per dataset per model for grouped classes',\n",
    "        x='Dataset', y='Accuracy')+\n",
    "    theme_classic() +\n",
    "    scale_fill_manual(values={\n",
    "        'CNN_NW': 'lightgray', \n",
    "        'CNN_W': 'darkgray', \n",
    "        'RF_NW': 'dimgray',\n",
    "        'RF_W': 'black',\n",
    "    }) +\n",
    "    ylim(0, 1) +\n",
    "    theme(axis_text_x=element_text(size=10), axis_text_y=element_text(size=10)))"
   ]
  },
  {
   "cell_type": "markdown",
   "metadata": {},
   "source": [
    "### Balanced accuracy"
   ]
  },
  {
   "cell_type": "code",
   "execution_count": null,
   "metadata": {},
   "outputs": [],
   "source": [
    "df_results.pivot(index='model', columns='dataset', values='balanced_accuracy_g')"
   ]
  },
  {
   "cell_type": "code",
   "execution_count": null,
   "metadata": {},
   "outputs": [],
   "source": [
    "(ggplot(df_results, aes(x='dataset', y='balanced_accuracy_g', fill='model')) + \n",
    "    geom_col(stat='identity', position='dodge') +\n",
    "    labs(fill='Model', title = 'Balanced accuracy value per dataset per model for grouped classes',\n",
    "        x='Dataset', y='Balanced accuracy')+\n",
    "    theme_classic() +\n",
    "    scale_fill_manual(values={\n",
    "        'CNN_NW': 'lightgray', \n",
    "        'CNN_W': 'darkgray', \n",
    "        'RF_NW': 'dimgray',\n",
    "        'RF_W': 'black',\n",
    "    }) +\n",
    "    ylim(0, 1) +\n",
    "    theme(axis_text_x=element_text(size=10), axis_text_y=element_text(size=10)))"
   ]
  },
  {
   "cell_type": "markdown",
   "metadata": {},
   "source": [
    "### Ecologically relevant precision"
   ]
  },
  {
   "cell_type": "code",
   "execution_count": null,
   "metadata": {},
   "outputs": [],
   "source": [
    "df_results.pivot(index='model', columns='dataset', values='eco_rev_precision_g')"
   ]
  },
  {
   "cell_type": "code",
   "execution_count": null,
   "metadata": {},
   "outputs": [],
   "source": [
    "(ggplot(df_results, aes(x='dataset', y='eco_rev_precision_g', fill='model')) + \n",
    "    geom_col(stat='identity', position='dodge') +\n",
    "    labs(fill='Model', title = 'Ecologically relevant precision value per dataset per model for grouped classes',\n",
    "        x='Dataset', y='Living precision')+\n",
    "    theme_classic() +\n",
    "    scale_fill_manual(values={\n",
    "        'CNN_NW': 'lightgray', \n",
    "        'CNN_W': 'darkgray', \n",
    "        'RF_NW': 'dimgray',\n",
    "        'RF_W': 'black',\n",
    "    }) +\n",
    "    ylim(0, 1) +\n",
    "    theme(axis_text_x=element_text(size=10), axis_text_y=element_text(size=10)))"
   ]
  },
  {
   "cell_type": "markdown",
   "metadata": {},
   "source": [
    "### Ecologically relevant recall"
   ]
  },
  {
   "cell_type": "code",
   "execution_count": null,
   "metadata": {},
   "outputs": [],
   "source": [
    "df_results.pivot(index='model', columns='dataset', values='eco_rev_recall_g')"
   ]
  },
  {
   "cell_type": "code",
   "execution_count": null,
   "metadata": {},
   "outputs": [],
   "source": [
    "(ggplot(df_results, aes(x='dataset', y='eco_rev_recall_g', fill='model')) + \n",
    "    geom_col(stat='identity', position='dodge') +\n",
    "    labs(fill='Model', title = 'Ecologically relevant recall value per dataset per model for grouped classes',\n",
    "        x='Dataset', y='Living recall')+\n",
    "    theme_classic() +\n",
    "    scale_fill_manual(values={\n",
    "        'CNN_NW': 'lightgray', \n",
    "        'CNN_W': 'darkgray', \n",
    "        'RF_NW': 'dimgray',\n",
    "        'RF_W': 'black',\n",
    "    }) +\n",
    "    ylim(0, 1) +\n",
    "    theme(axis_text_x=element_text(size=10), axis_text_y=element_text(size=10)))"
   ]
  }
 ],
 "metadata": {
  "kernelspec": {
   "display_name": "Python 3",
   "language": "python",
   "name": "python3"
  },
  "language_info": {
   "codemirror_mode": {
    "name": "ipython",
    "version": 3
   },
   "file_extension": ".py",
   "mimetype": "text/x-python",
   "name": "python",
   "nbconvert_exporter": "python",
   "pygments_lexer": "ipython3",
   "version": "3.8.5"
  }
 },
 "nbformat": 4,
 "nbformat_minor": 4
}
