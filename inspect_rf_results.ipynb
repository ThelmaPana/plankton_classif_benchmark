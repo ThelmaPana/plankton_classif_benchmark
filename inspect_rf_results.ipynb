{
 "cells": [
  {
   "cell_type": "markdown",
   "metadata": {},
   "source": [
    "# Inspect prediction results from a Random Forest classifier"
   ]
  },
  {
   "cell_type": "code",
   "execution_count": null,
   "metadata": {},
   "outputs": [],
   "source": [
    "import os\n",
    "import pandas as pd\n",
    "import numpy as np\n",
    "import seaborn as sn\n",
    "import pickle\n",
    "import glob\n",
    "import matplotlib.pyplot as plt\n",
    "from plotnine import *\n",
    "from sklearn.metrics import classification_report, confusion_matrix, accuracy_score, balanced_accuracy_score, precision_score, recall_score\n",
    "import read_settings"
   ]
  },
  {
   "cell_type": "markdown",
   "metadata": {},
   "source": [
    "Set input and output directories"
   ]
  },
  {
   "cell_type": "code",
   "execution_count": null,
   "metadata": {},
   "outputs": [],
   "source": [
    "# Read settings\n",
    "global_settings = read_settings.check_global()\n",
    "instrument = global_settings['input_data']['instrument']\n",
    "rf_settings = read_settings.check_rf()\n",
    "use_weights = rf_settings['use_weights']\n",
    "\n",
    "# Directory for input data\n",
    "data_dir = os.path.join('data', instrument)\n",
    "\n",
    "# Directory for training outputs\n",
    "output_dirs = glob.glob(os.path.join('output', '_'.join(['rf', 'w' if use_weights else 'nw', instrument, '*'])))\n",
    "output_dirs.sort()\n",
    "output_dirs"
   ]
  },
  {
   "cell_type": "markdown",
   "metadata": {},
   "source": [
    "Choose output directory to inspect"
   ]
  },
  {
   "cell_type": "code",
   "execution_count": null,
   "metadata": {},
   "outputs": [],
   "source": [
    "output_dir = output_dirs[-1]"
   ]
  },
  {
   "cell_type": "markdown",
   "metadata": {},
   "source": [
    "Glimpse at settings"
   ]
  },
  {
   "cell_type": "code",
   "execution_count": null,
   "metadata": {},
   "outputs": [],
   "source": [
    "with open(os.path.join(output_dir, 'settings.pickle'),'rb') as settings_file:\n",
    "    settings = pickle.load(settings_file)\n",
    "settings"
   ]
  },
  {
   "cell_type": "markdown",
   "metadata": {},
   "source": [
    "## Input data"
   ]
  },
  {
   "cell_type": "code",
   "execution_count": null,
   "metadata": {},
   "outputs": [],
   "source": [
    "df_comp = pd.read_csv(os.path.join(output_dir, 'df_comp.csv')).set_index('classif_id')"
   ]
  },
  {
   "cell_type": "code",
   "execution_count": null,
   "metadata": {},
   "outputs": [],
   "source": [
    "plt.figure()\n",
    "df_comp.plot.bar(stacked=True, figsize=(16,8), fontsize = 14)\n",
    "plt.xlabel(\"Classes\", fontsize = 14)\n",
    "plt.ylabel(\"Image number\", fontsize = 14)\n",
    "plt.legend(loc=\"best\")\n",
    "plt.title(\"Dataset composition for RF\", fontsize = 16)\n",
    "plt.show()"
   ]
  },
  {
   "cell_type": "markdown",
   "metadata": {},
   "source": [
    "## Training"
   ]
  },
  {
   "cell_type": "markdown",
   "metadata": {},
   "source": [
    "Read training file"
   ]
  },
  {
   "cell_type": "code",
   "execution_count": null,
   "metadata": {},
   "outputs": [],
   "source": [
    "with open(os.path.join(output_dir, 'train_results.pickle'),'rb') as results_file:\n",
    "    train_results = pickle.load(results_file)\n",
    "    train_results = pd.DataFrame(train_results)"
   ]
  },
  {
   "cell_type": "markdown",
   "metadata": {},
   "source": [
    "Plot gridsearch results"
   ]
  },
  {
   "cell_type": "code",
   "execution_count": null,
   "metadata": {},
   "outputs": [],
   "source": [
    "eval_metric = settings['rf_settings']['grid_search']['eval_metric']\n",
    "(ggplot(train_results) +\n",
    "  geom_point(aes(x='max_features', y='valid_' + eval_metric, colour='factor(n_estimators)'))+\n",
    "  facet_wrap('~min_samples_leaf', labeller = 'label_both') +\n",
    "  labs(colour='n_estimators', title = 'Gridsearch results'))"
   ]
  },
  {
   "cell_type": "code",
   "execution_count": null,
   "metadata": {},
   "outputs": [],
   "source": [
    "if eval_metric == 'log_loss':\n",
    "    # if evaluation metric is log loss, look for the smallest value\n",
    "    best_params = train_results.nsmallest(1, 'valid_'+ eval_metric).reset_index(drop=True).drop(['valid_accuracy', 'valid_balanced_accuracy', 'valid_log_loss'], axis=1)\n",
    "else:\n",
    "    # in other cases, look for the largest value\n",
    "    best_params = train_results.nlargest(1, 'valid_'+ eval_metric).reset_index(drop=True).drop(['valid_accuracy', 'valid_balanced_accuracy', 'valid_log_loss'], axis=1)\n",
    "best_params = best_params.iloc[0].to_dict()\n",
    "best_params"
   ]
  },
  {
   "cell_type": "markdown",
   "metadata": {},
   "source": [
    "## Testing"
   ]
  },
  {
   "cell_type": "markdown",
   "metadata": {},
   "source": [
    "Read test file"
   ]
  },
  {
   "cell_type": "code",
   "execution_count": null,
   "metadata": {},
   "outputs": [],
   "source": [
    "with open(os.path.join(output_dir, 'test_results.pickle'),'rb') as results_file:\n",
    "    test_results = pickle.load(results_file)\n",
    "\n",
    "    classes = test_results.get('classes')\n",
    "    classes_g = test_results.get('classes_g')\n",
    "    eco_rev_classes = test_results.get('eco_rev_classes')\n",
    "    eco_rev_classes_g = test_results.get('eco_rev_classes_g')\n",
    "    \n",
    "    true_classes = test_results.get('true_classes')\n",
    "    predicted_classes = test_results.get('predicted_classes')\n",
    "    true_classes_g = test_results.get('true_classes_g')\n",
    "    predicted_classes_g = test_results.get('predicted_classes_g')\n",
    "    \n",
    "    accuracy = test_results.get('accuracy')\n",
    "    balanced_accuracy = test_results.get('balanced_accuracy')\n",
    "    eco_rev_precision = test_results.get('eco_rev_precision')\n",
    "    eco_rev_recall = test_results.get('eco_rev_recall')\n",
    "    \n",
    "    accuracy_g = test_results.get('accuracy_g')\n",
    "    balanced_accuracy_g = test_results.get('balanced_accuracy_g')\n",
    "    eco_rev_precision_g = test_results.get('eco_rev_precision_g')\n",
    "    eco_rev_recall_g = test_results.get('eco_rev_recall_g')"
   ]
  },
  {
   "cell_type": "markdown",
   "metadata": {},
   "source": [
    "### Accuracy, precision and recall scores"
   ]
  },
  {
   "cell_type": "code",
   "execution_count": null,
   "metadata": {},
   "outputs": [],
   "source": [
    "print(f'Accuracy score is {accuracy}')\n",
    "print(f'Balanced accuracy score is {balanced_accuracy}')\n",
    "print(f'Weighted ecologically relevant precision score is {eco_rev_precision}')\n",
    "print(f'Weighted ecologically relevant recall is {eco_rev_recall}')"
   ]
  },
  {
   "cell_type": "markdown",
   "metadata": {},
   "source": [
    "### Confusion matrix"
   ]
  },
  {
   "cell_type": "markdown",
   "metadata": {},
   "source": [
    "Plot a confusion matrix"
   ]
  },
  {
   "cell_type": "code",
   "execution_count": null,
   "metadata": {},
   "outputs": [],
   "source": [
    "# Create confution matrix\n",
    "cm = confusion_matrix(true_classes, predicted_classes, normalize='true')\n",
    "\n",
    "# Plot it\n",
    "plt.figure(figsize=(20,20))\n",
    "plt.imshow(cm, cmap='Greys')\n",
    "plt.colorbar()\n",
    "tick_marks = np.arange(len(classes))\n",
    "plt.xticks(tick_marks, classes, rotation=90, fontsize=14)\n",
    "plt.yticks(tick_marks, classes, fontsize=14)\n",
    "plt.ylabel('True label', fontsize=14)\n",
    "plt.xlabel('Predicted label', fontsize=14)\n",
    "plt.title(\"Confusion matrix for RF\", fontsize=20)\n",
    "plt.show()"
   ]
  },
  {
   "cell_type": "markdown",
   "metadata": {},
   "source": [
    "### Classification report"
   ]
  },
  {
   "cell_type": "markdown",
   "metadata": {},
   "source": [
    "Plot a classification report"
   ]
  },
  {
   "cell_type": "code",
   "execution_count": null,
   "metadata": {},
   "outputs": [],
   "source": [
    "# Create classification report\n",
    "report = classification_report(true_classes, predicted_classes, output_dict=True)\n",
    "\n",
    "# List annotations for figure\n",
    "annot = [str(x) for x in classes]\n",
    "annot.extend((\"accuracy\", \"macro avg\", \"weighted avg\"))\n",
    "\n",
    "# Convert report to dataframe\n",
    "df_report = pd.DataFrame(report).transpose().drop('support', axis=1)\n",
    "\n",
    "# Plot figure\n",
    "plt.figure(figsize = (8,15))\n",
    "sn.heatmap(df_report, annot=True, vmin=0, vmax=1.0,  yticklabels = annot, cmap=\"Greys\")\n",
    "plt.title(\"Classification report for RF\", fontsize=16)\n",
    "plt.show()"
   ]
  },
  {
   "cell_type": "markdown",
   "metadata": {},
   "source": [
    "### Accuracy, precision and recall scores after regrouping classes"
   ]
  },
  {
   "cell_type": "code",
   "execution_count": null,
   "metadata": {},
   "outputs": [],
   "source": [
    "print(f'Grouped accuracy score is {accuracy_g}')\n",
    "print(f'Grouped balanced accuracy score is {balanced_accuracy_g}')\n",
    "print(f'Grouped weighted ecologically relevant precision score is {eco_rev_precision_g}')\n",
    "print(f'Grouped weighted ecologically relevant recall is {eco_rev_recall_g}')"
   ]
  },
  {
   "cell_type": "markdown",
   "metadata": {},
   "source": [
    "### Confusion matrix"
   ]
  },
  {
   "cell_type": "markdown",
   "metadata": {},
   "source": [
    "Plot a confusion matrix"
   ]
  },
  {
   "cell_type": "code",
   "execution_count": null,
   "metadata": {},
   "outputs": [],
   "source": [
    "# Create confution matrix\n",
    "cm_g = confusion_matrix(true_classes_g, predicted_classes_g, normalize='true')\n",
    "\n",
    "# Plot if\n",
    "plt.figure(figsize=(20,20))\n",
    "plt.imshow(cm_g, cmap='Greys')\n",
    "plt.colorbar()\n",
    "tick_marks = np.arange(len(classes_g))\n",
    "plt.xticks(tick_marks, classes_g, rotation=90, fontsize=14)\n",
    "plt.yticks(tick_marks, classes_g, fontsize=14)\n",
    "plt.ylabel('True label', fontsize=14)\n",
    "plt.xlabel('Predicted label', fontsize=14)\n",
    "plt.title(\"Confusion matrix for CNN after grouping ecological classes\", fontsize=20)\n",
    "plt.show()"
   ]
  },
  {
   "cell_type": "markdown",
   "metadata": {},
   "source": [
    "### Classification report"
   ]
  },
  {
   "cell_type": "markdown",
   "metadata": {},
   "source": [
    "Plot a classification report"
   ]
  },
  {
   "cell_type": "code",
   "execution_count": null,
   "metadata": {},
   "outputs": [],
   "source": [
    "# Create classification report\n",
    "report = classification_report(true_classes_g, predicted_classes_g, output_dict=True)\n",
    "\n",
    "# List annotations for figure\n",
    "annot = [str(x) for x in classes_g]\n",
    "annot.extend((\"accuracy\", \"macro avg\", \"weighted avg\"))\n",
    "\n",
    "# Convert report to dataframe\n",
    "df_report = pd.DataFrame(report).transpose().drop('support', axis=1)\n",
    "\n",
    "# Plot figure\n",
    "plt.figure(figsize = (8,15))\n",
    "sn.heatmap(df_report, annot=True, vmin=0, vmax=1.0,  yticklabels = annot, cmap=\"Greys\")\n",
    "plt.title(\"Classification report for CNN after grouping ecological classes\", fontsize=16)\n",
    "plt.show()"
   ]
  }
 ],
 "metadata": {
  "kernelspec": {
   "display_name": "Python 3",
   "language": "python",
   "name": "python3"
  },
  "language_info": {
   "codemirror_mode": {
    "name": "ipython",
    "version": 3
   },
   "file_extension": ".py",
   "mimetype": "text/x-python",
   "name": "python",
   "nbconvert_exporter": "python",
   "pygments_lexer": "ipython3",
   "version": "3.8.5"
  }
 },
 "nbformat": 4,
 "nbformat_minor": 4
}
