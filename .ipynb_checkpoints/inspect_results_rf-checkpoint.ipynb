{
 "cells": [
  {
   "cell_type": "markdown",
   "metadata": {},
   "source": [
    "# Inspect prediction results from a Random Forest classifier"
   ]
  },
  {
   "cell_type": "code",
   "execution_count": null,
   "metadata": {},
   "outputs": [],
   "source": [
    "import os\n",
    "import pandas as pd\n",
    "import numpy as np\n",
    "import seaborn as sn\n",
    "import pickle\n",
    "import matplotlib.pyplot as plt\n",
    "from plotnine import *\n",
    "from sklearn.metrics import classification_report, confusion_matrix"
   ]
  },
  {
   "cell_type": "code",
   "execution_count": null,
   "metadata": {},
   "outputs": [],
   "source": [
    "instrument = 'isiis'\n",
    "data_dir = os.path.join('data', instrument)\n",
    "output_dir = '_'.join(['output_rf', instrument])"
   ]
  },
  {
   "cell_type": "markdown",
   "metadata": {},
   "source": [
    "## Input data"
   ]
  },
  {
   "cell_type": "code",
   "execution_count": null,
   "metadata": {},
   "outputs": [],
   "source": [
    "df_train = pd.read_csv(os.path.join(output_dir, 'df_train.csv'))\n",
    "df_train['split'] = 'train'\n",
    "df_valid = pd.read_csv(os.path.join(output_dir, 'df_valid.csv'))\n",
    "df_valid['split'] = 'valid'\n",
    "df_test = pd.read_csv(os.path.join(output_dir, 'df_test.csv'))\n",
    "df_test['split'] = 'test'\n",
    "\n",
    "df_all = pd.concat([df_train, df_valid, df_test]).reset_index(drop=True)"
   ]
  },
  {
   "cell_type": "code",
   "execution_count": null,
   "metadata": {},
   "outputs": [],
   "source": [
    "plt.figure()\n",
    "df_all.groupby(['classif_id','split']).size().unstack(fill_value=0).plot.bar(stacked=True, figsize=(10,5), fontsize = 14)\n",
    "plt.xlabel(\"Classes\", fontsize = 14)\n",
    "plt.ylabel(\"Image number\", fontsize = 14)\n",
    "plt.legend(loc=\"best\")\n",
    "plt.title(\"Dataset composition for RF\", fontsize = 16)\n",
    "plt.show()"
   ]
  },
  {
   "cell_type": "markdown",
   "metadata": {},
   "source": [
    "## Training"
   ]
  },
  {
   "cell_type": "markdown",
   "metadata": {},
   "source": [
    "Read training file"
   ]
  },
  {
   "cell_type": "code",
   "execution_count": null,
   "metadata": {},
   "outputs": [],
   "source": [
    "with open(os.path.join(output_dir, 'train_results.pickle'),'rb') as results_file:\n",
    "    train_results = pickle.load(results_file)\n",
    "    train_results = pd.DataFrame(train_results)"
   ]
  },
  {
   "cell_type": "markdown",
   "metadata": {},
   "source": [
    "Plot gridsearch results"
   ]
  },
  {
   "cell_type": "code",
   "execution_count": null,
   "metadata": {},
   "outputs": [],
   "source": [
    "(ggplot(train_results) +\n",
    "  geom_point(aes(x='max_features', y='valid_accuracy', colour='factor(n_estimators)'))+\n",
    "  facet_wrap('~min_samples_leaf', labeller = 'label_both') +\n",
    "  labs(colour='n_estimators', title = 'Gridsearch results'))"
   ]
  },
  {
   "cell_type": "markdown",
   "metadata": {},
   "source": [
    "## Testing"
   ]
  },
  {
   "cell_type": "markdown",
   "metadata": {},
   "source": [
    "### Confusion matrix"
   ]
  },
  {
   "cell_type": "markdown",
   "metadata": {},
   "source": [
    "Read test file"
   ]
  },
  {
   "cell_type": "code",
   "execution_count": null,
   "metadata": {},
   "outputs": [],
   "source": [
    "with open(os.path.join(output_dir, 'test_results.pickle'),'rb') as results_file:\n",
    "    test_results = pickle.load(results_file)\n",
    "    \n",
    "    true_classes = test_results.get('true_classes')\n",
    "    predicted_classes = test_results.get('predicted_classes')\n",
    "    classes = test_results.get('classes')"
   ]
  },
  {
   "cell_type": "markdown",
   "metadata": {},
   "source": [
    "Plot a confusion matrix"
   ]
  },
  {
   "cell_type": "code",
   "execution_count": null,
   "metadata": {},
   "outputs": [],
   "source": [
    "# Create confution matrix\n",
    "cm = confusion_matrix(true_classes, predicted_classes, normalize='true')\n",
    "\n",
    "# Plot it\n",
    "plt.figure(figsize=(15,15))\n",
    "plt.imshow(cm, cmap='Greys')\n",
    "plt.colorbar()\n",
    "tick_marks = np.arange(len(classes))\n",
    "plt.xticks(tick_marks, classes, rotation=90, fontsize=14)\n",
    "plt.yticks(tick_marks, classes, fontsize=14)\n",
    "plt.ylabel('True label', fontsize=14)\n",
    "plt.xlabel('Predicted label', fontsize=14)\n",
    "plt.title(\"Confusion matrix for RF\", fontsize=16)\n",
    "plt.show()"
   ]
  },
  {
   "cell_type": "markdown",
   "metadata": {},
   "source": [
    "### Classification report"
   ]
  },
  {
   "cell_type": "markdown",
   "metadata": {},
   "source": [
    "Plot a classification result"
   ]
  },
  {
   "cell_type": "code",
   "execution_count": null,
   "metadata": {},
   "outputs": [],
   "source": [
    "# Create classification report\n",
    "report = classification_report(true_classes, predicted_classes, output_dict=True)\n",
    "\n",
    "# List annotations for figure\n",
    "annot = [str(x) for x in classes]\n",
    "annot.extend((\"accuracy\", \"macro avg\", \"weighted avg\"))\n",
    "\n",
    "# Convert report to dataframe\n",
    "df_report = pd.DataFrame(report).transpose().drop('support', axis=1)\n",
    "\n",
    "# Plot figure\n",
    "plt.figure(figsize = (8,15))\n",
    "sn.heatmap(df_report, annot=True, vmin=0, vmax=1.0,  yticklabels = annot, cmap=\"Greys\")\n",
    "plt.title(\"Classification report for RF\", fontsize=16)\n",
    "plt.show()"
   ]
  }
 ],
 "metadata": {
  "kernelspec": {
   "display_name": "Python 3",
   "language": "python",
   "name": "python3"
  },
  "language_info": {
   "codemirror_mode": {
    "name": "ipython",
    "version": 3
   },
   "file_extension": ".py",
   "mimetype": "text/x-python",
   "name": "python",
   "nbconvert_exporter": "python",
   "pygments_lexer": "ipython3",
   "version": "3.6.9"
  }
 },
 "nbformat": 4,
 "nbformat_minor": 4
}
